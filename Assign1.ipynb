{
 "cells": [
  {
   "cell_type": "code",
   "execution_count": 2,
   "id": "232a27a8-dbdd-4906-ada5-5023a063007f",
   "metadata": {},
   "outputs": [
    {
     "name": "stdout",
     "output_type": "stream",
     "text": [
      "10.0\n"
     ]
    }
   ],
   "source": [
    "#1. Convert a integer to a floatig-point number.\n",
    "num=10\n",
    "print(float(num))"
   ]
  },
  {
   "cell_type": "code",
   "execution_count": 3,
   "id": "fe8e30cc-19f3-4a88-9dbc-bf02d5c262a8",
   "metadata": {},
   "outputs": [
    {
     "name": "stdout",
     "output_type": "stream",
     "text": [
      "10\n"
     ]
    }
   ],
   "source": [
    "#2. Convert a float to a integer.\n",
    "float_num=10.383\n",
    "print(int(float_num))"
   ]
  },
  {
   "cell_type": "code",
   "execution_count": 6,
   "id": "585a7866-55ff-42f8-b562-dda967585220",
   "metadata": {},
   "outputs": [
    {
     "data": {
      "text/plain": [
       "'10'"
      ]
     },
     "execution_count": 6,
     "metadata": {},
     "output_type": "execute_result"
    }
   ],
   "source": [
    "#3. Convert a integer to a string.\n",
    "number=10\n",
    "str(number)"
   ]
  },
  {
   "cell_type": "code",
   "execution_count": 8,
   "id": "a9bd2a54-3abf-4bbc-abe4-9d2ce40fca60",
   "metadata": {},
   "outputs": [
    {
     "data": {
      "text/plain": [
       "(1, 2, 3, 4)"
      ]
     },
     "execution_count": 8,
     "metadata": {},
     "output_type": "execute_result"
    }
   ],
   "source": [
    "#4. Convert list to a tuple\n",
    "l=[1,2,3,4]\n",
    "tuple(l)"
   ]
  },
  {
   "cell_type": "code",
   "execution_count": 9,
   "id": "08300541-8023-427e-93b2-1b487e49475b",
   "metadata": {},
   "outputs": [
    {
     "data": {
      "text/plain": [
       "[1, 2, 3, 4]"
      ]
     },
     "execution_count": 9,
     "metadata": {},
     "output_type": "execute_result"
    }
   ],
   "source": [
    "#5. Convert tuple to a list\n",
    "t=(1,2,3,4)\n",
    "list(t)"
   ]
  },
  {
   "cell_type": "code",
   "execution_count": 10,
   "id": "3ad45d98-7318-4f51-9c1b-0b1ff9ab6de3",
   "metadata": {},
   "outputs": [
    {
     "data": {
      "text/plain": [
       "'0b1010'"
      ]
     },
     "execution_count": 10,
     "metadata": {},
     "output_type": "execute_result"
    }
   ],
   "source": [
    "#6. Convert a decimal number to binary.\n",
    "decimal=10\n",
    "bin(decimal)"
   ]
  },
  {
   "cell_type": "code",
   "execution_count": null,
   "id": "5baadf70-4bc6-4996-841a-fe8e228a11d8",
   "metadata": {},
   "outputs": [],
   "source": [
    "#7. Convert a non-zero number to boolean.\n"
   ]
  }
 ],
 "metadata": {
  "kernelspec": {
   "display_name": "Python 3 (ipykernel)",
   "language": "python",
   "name": "python3"
  },
  "language_info": {
   "codemirror_mode": {
    "name": "ipython",
    "version": 3
   },
   "file_extension": ".py",
   "mimetype": "text/x-python",
   "name": "python",
   "nbconvert_exporter": "python",
   "pygments_lexer": "ipython3",
   "version": "3.10.8"
  }
 },
 "nbformat": 4,
 "nbformat_minor": 5
}
