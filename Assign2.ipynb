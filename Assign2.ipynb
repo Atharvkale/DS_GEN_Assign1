{
 "cells": [
  {
   "cell_type": "code",
   "execution_count": 2,
   "id": "48bbd324-eb80-4689-9402-5097b577dfd6",
   "metadata": {},
   "outputs": [
    {
     "name": "stdout",
     "output_type": "stream",
     "text": [
      "sum= 15\n",
      "Difference= 5\n",
      "Product= 50\n",
      "Quotient 2.0\n"
     ]
    }
   ],
   "source": [
    "#1. Calculate the sum, difference, product, and quotient of two numbers.\n",
    "num1=10\n",
    "num2=5\n",
    "print(\"sum=\",num1+num2)\n",
    "print(\"Difference=\",num1-num2)\n",
    "print(\"Product=\",num1*num2)\n",
    "print(\"Quotient\",num1/num2)"
   ]
  },
  {
   "cell_type": "code",
   "execution_count": 3,
   "id": "2be341d7-8f8b-4d24-8780-611ceabb9a88",
   "metadata": {},
   "outputs": [
    {
     "name": "stdout",
     "output_type": "stream",
     "text": [
      "Addition Assignment Result: 15\n",
      "Subtraction Assignment Result: 5\n",
      "Multiplication Assignment Result: 50\n",
      "Division Assignment Result: 2.0\n",
      "Floor Division Assignment Result: 2\n",
      "Modulus Assignment Result: 0\n",
      "Exponentiation Assignment Result: 100000\n",
      "Bitwise AND Assignment Result: 0\n",
      "Bitwise OR Assignment Result: 15\n",
      "Bitwise XOR Assignment Result: 15\n",
      "Bitwise Left Shift Assignment Result: 320\n",
      "Bitwise Right Shift Assignment Result: 0\n"
     ]
    }
   ],
   "source": [
    "#2. Perform various assignment operations\n",
    "result = num1\n",
    "\n",
    "result += num2   # Addition Assignment\n",
    "print(\"Addition Assignment Result:\", result)\n",
    "\n",
    "result = num1\n",
    "result -= num2   # Subtraction Assignment\n",
    "print(\"Subtraction Assignment Result:\", result)\n",
    "\n",
    "result = num1\n",
    "result *= num2   # Multiplication Assignment\n",
    "print(\"Multiplication Assignment Result:\", result)\n",
    "\n",
    "result = num1\n",
    "result /= num2   # Division Assignment\n",
    "print(\"Division Assignment Result:\", result)\n",
    "\n",
    "result = num1\n",
    "result //= num2   # Floor Division Assignment\n",
    "print(\"Floor Division Assignment Result:\", result)\n",
    "\n",
    "result = num1\n",
    "result %= num2   # Modulus Assignment\n",
    "print(\"Modulus Assignment Result:\", result)\n",
    "\n",
    "result = num1\n",
    "result **= num2   # Exponentiation Assignment\n",
    "print(\"Exponentiation Assignment Result:\", result)\n",
    "\n",
    "result = num1\n",
    "result &= num2   # Bitwise AND Assignment\n",
    "print(\"Bitwise AND Assignment Result:\", result)\n",
    "\n",
    "result = num1\n",
    "result |= num2   # Bitwise OR Assignment\n",
    "print(\"Bitwise OR Assignment Result:\", result)\n",
    "\n",
    "result = num1\n",
    "result ^= num2   # Bitwise XOR Assignment\n",
    "print(\"Bitwise XOR Assignment Result:\", result)\n",
    "\n",
    "result = num1\n",
    "result <<= num2   # Bitwise Left Shift Assignment\n",
    "print(\"Bitwise Left Shift Assignment Result:\", result)\n",
    "\n",
    "result = num1\n",
    "result >>= num2   # Bitwise Right Shift Assignment\n",
    "print(\"Bitwise Right Shift Assignment Result:\", result)\n"
   ]
  },
  {
   "cell_type": "code",
   "execution_count": 4,
   "id": "23722acd-3861-4727-a8e9-871f6cb8f37f",
   "metadata": {},
   "outputs": [
    {
     "name": "stdout",
     "output_type": "stream",
     "text": [
      "The first number is less than the second number\n"
     ]
    }
   ],
   "source": [
    "#3. Compare two numbers and print the results \n",
    "a = 5\n",
    "b = 10\n",
    "\n",
    "if a == b:\n",
    "  print(\"The numbers are equal\")\n",
    "elif a < b:\n",
    "  print(\"The first number is less than the second number\")\n",
    "else:\n",
    "  print(\"The first number is greater than the second number\")"
   ]
  },
  {
   "cell_type": "code",
   "execution_count": 5,
   "id": "a92dcdfb-7c3c-49ec-9223-f07b7d431036",
   "metadata": {},
   "outputs": [
    {
     "name": "stdout",
     "output_type": "stream",
     "text": [
      "Both numbers are positive.\n",
      "The numbers are not equal.\n"
     ]
    }
   ],
   "source": [
    "# 4. Check conditions using logical operators\n",
    "if num1 > 0 and num2 > 0:\n",
    "    print(\"Both numbers are positive.\")\n",
    "\n",
    "if num1 < 0 or num2 < 0:\n",
    "    print(\"At least one number is negative.\")\n",
    "\n",
    "if not (num1 == num2):\n",
    "    print(\"The numbers are not equal.\")\n",
    "else:\n",
    "    print(\"The numbers are equal.\")\n"
   ]
  },
  {
   "cell_type": "code",
   "execution_count": 6,
   "id": "bdc51d89-7ccf-4685-9260-46a68341aacc",
   "metadata": {},
   "outputs": [
    {
     "name": "stdout",
     "output_type": "stream",
     "text": [
      "139857838735888 139857838736496\n"
     ]
    }
   ],
   "source": [
    "# 5.Check the identity of variables in python\n",
    "a=10\n",
    "b=29\n",
    "print(id(a),id(b))"
   ]
  },
  {
   "cell_type": "code",
   "execution_count": 12,
   "id": "8203f3cd-3e6b-4d67-a0e9-c45c03b09078",
   "metadata": {},
   "outputs": [
    {
     "name": "stdout",
     "output_type": "stream",
     "text": [
      "Bitwise and: 0\n",
      "Bitwise or: 15\n",
      "Bitwise xor: 15\n",
      "Bitwise not: -6\n",
      "Bitwise left shift: 40\n",
      "Bitwise right shift: 2\n"
     ]
    }
   ],
   "source": [
    "#6. Perform bitwise operations on any two integers.\n",
    "num1=10\n",
    "num2=5\n",
    "print(\"Bitwise and:\",num1&num2)\n",
    "print(\"Bitwise or:\",num1|num2)\n",
    "print(\"Bitwise xor:\",num1^num2)\n",
    "print(\"Bitwise not:\",~num2)\n",
    "print(\"Bitwise left shift:\",num1<<2)\n",
    "print(\"Bitwise right shift:\",num2>>1)"
   ]
  },
  {
   "cell_type": "code",
   "execution_count": 13,
   "id": "aebd4ea9-400c-4ddd-a70c-7023e5eb49b3",
   "metadata": {},
   "outputs": [
    {
     "name": "stdout",
     "output_type": "stream",
     "text": [
      "-10\n"
     ]
    }
   ],
   "source": [
    "#7. Use unary operators to change the sign of a number.\n",
    "num=10\n",
    "neg_num= -num\n",
    "print(neg_num)"
   ]
  },
  {
   "cell_type": "code",
   "execution_count": 14,
   "id": "73aa1d82-2b3d-47f0-947f-b0325a65b7c6",
   "metadata": {},
   "outputs": [
    {
     "name": "stdout",
     "output_type": "stream",
     "text": [
      "Even\n"
     ]
    }
   ],
   "source": [
    "#8. Use the ternary operator to assign values based on conditions\n",
    "x=10\n",
    "result=\"Even\" if x%2==0 else \"odd\"\n",
    "print(result)"
   ]
  },
  {
   "cell_type": "code",
   "execution_count": null,
   "id": "90ae52e5-81a5-4427-a4bf-21df4061bc81",
   "metadata": {},
   "outputs": [],
   "source": []
  }
 ],
 "metadata": {
  "kernelspec": {
   "display_name": "Python 3 (ipykernel)",
   "language": "python",
   "name": "python3"
  },
  "language_info": {
   "codemirror_mode": {
    "name": "ipython",
    "version": 3
   },
   "file_extension": ".py",
   "mimetype": "text/x-python",
   "name": "python",
   "nbconvert_exporter": "python",
   "pygments_lexer": "ipython3",
   "version": "3.10.8"
  }
 },
 "nbformat": 4,
 "nbformat_minor": 5
}
