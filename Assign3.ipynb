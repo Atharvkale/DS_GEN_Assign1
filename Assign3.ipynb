{
 "cells": [
  {
   "cell_type": "code",
   "execution_count": 1,
   "id": "f8a7a484-c68c-48e7-9377-e186fa94e581",
   "metadata": {},
   "outputs": [
    {
     "name": "stdout",
     "output_type": "stream",
     "text": [
      "x is greater than 5\n"
     ]
    }
   ],
   "source": [
    "#1. Explain the significance of Python keywords and provide examples of five keywords\n",
    "#if: Used for conditional execution. It allows branching in code based on whether a condition is true or false.\n",
    "x = 10\n",
    "if x > 5:\n",
    "    print(\"x is greater than 5\")"
   ]
  },
  {
   "cell_type": "code",
   "execution_count": 2,
   "id": "bbfbe6de-740f-4af2-ab21-38be2a3afe1f",
   "metadata": {},
   "outputs": [
    {
     "name": "stdout",
     "output_type": "stream",
     "text": [
      "apple\n",
      "banana\n",
      "cherry\n"
     ]
    }
   ],
   "source": [
    "#for: Used for looping over a sequence (such as a list, tuple, or string) or an iterable object (like a range).\n",
    "fruits = [\"apple\", \"banana\", \"cherry\"]\n",
    "for fruit in fruits:\n",
    "    print(fruit)\n"
   ]
  },
  {
   "cell_type": "code",
   "execution_count": 3,
   "id": "5e1f62d1-9964-4cb2-af9f-f93ebe9e1c77",
   "metadata": {},
   "outputs": [],
   "source": [
    "#def: Used to define functions in Python. It marks the beginning of the function definition block.\n",
    "def greet(name):\n",
    "    print(\"Hello, \" + name + \"!\")\n"
   ]
  },
  {
   "cell_type": "code",
   "execution_count": 4,
   "id": "9073b401-b3dc-4f64-ae21-f7fdf7f452ff",
   "metadata": {},
   "outputs": [],
   "source": [
    "#return: Used to exit a function and return a value to the caller.\n",
    "def add(x, y):\n",
    "    return x + y\n"
   ]
  },
  {
   "cell_type": "code",
   "execution_count": 5,
   "id": "42aebbfc-c78f-45df-9434-af5f9a99a6fe",
   "metadata": {},
   "outputs": [
    {
     "name": "stdout",
     "output_type": "stream",
     "text": [
      "Both x and y are positive.\n"
     ]
    }
   ],
   "source": [
    "#and :It is a logical operator and Used to combine multiple conditions.It evaluates to True if all the conditions \n",
    "#it connects are True, otherwise, it evaluates to False.\n",
    "x = 5\n",
    "y = 10\n",
    "\n",
    "if x > 0 and y > 0:\n",
    "    print(\"Both x and y are positive.\")\n"
   ]
  },
  {
   "cell_type": "code",
   "execution_count": 6,
   "id": "c78362c5-b4ba-432b-b2c3-1da108e62e41",
   "metadata": {},
   "outputs": [
    {
     "ename": "SyntaxError",
     "evalue": "invalid syntax (128395244.py, line 17)",
     "output_type": "error",
     "traceback": [
      "\u001b[0;36m  Cell \u001b[0;32mIn[6], line 17\u001b[0;36m\u001b[0m\n\u001b[0;31m    3invalid_variable = 5\u001b[0m\n\u001b[0m     ^\u001b[0m\n\u001b[0;31mSyntaxError\u001b[0m\u001b[0;31m:\u001b[0m invalid syntax\n"
     ]
    }
   ],
   "source": [
    "#2. Describe the rules for defining identifiers in Python and provide an example\n",
    "#Identifiers cannot be a keyword.\n",
    "# Identifiers are case-sensitive.\n",
    "# It can have a sequence of letters and digits. ...\n",
    "# It's a convention to start an identifier with a letter rather _ .\n",
    "# Whitespaces are not allowed.\n",
    "# We cannot use special symbols like !, @, #, $, and so on.\n",
    "\n",
    "# Valid Identifiers\n",
    "my_variable = 10\n",
    "myFunction = lambda x: x * 2\n",
    "MyClass = MyClass()\n",
    "another_variable123 = \"Hello\"\n",
    "_this_is_valid = True\n",
    "\n",
    "# Invalid Identifiers\n",
    "3invalid_variable = 5   \n",
    "my-variable = 7         \n",
    "if = 10                 \n"
   ]
  },
  {
   "cell_type": "code",
   "execution_count": 7,
   "id": "9f6cdfa3-71c9-47a4-9ad8-0304bde6b9af",
   "metadata": {},
   "outputs": [],
   "source": [
    "#3. What are comments in Python, and why are they useful? Provide an example\n",
    "# In Python, comments are portions of code that are not executed by the interpreter. They are intended for human readers to understand the code better.\n",
    "# Comments provide explanations, documentation, or annotations within the code to make it more readable and understandable.\n",
    "\n",
    "# This is a single-line comment\n",
    "x = 5  # Assigning the value 5 to the variable x\n",
    "\n",
    "'''\n",
    "This is a multi-line comment.\n",
    "It spans multiple lines and can provide\n",
    "more detailed explanations or documentation.\n",
    "'''\n",
    "y = 10  # Assigning the value 10 to the variable y\n"
   ]
  },
  {
   "cell_type": "markdown",
   "id": "46d77f0d-fb61-434e-802b-db1bdd165f2c",
   "metadata": {},
   "source": [
    "#4Why is proper indentation important in Pytho?\n",
    "\n",
    "# The primary purpose of indentation in Python is to define the scope of statements, such as those within loops, conditionals, functions, and classes. \n",
    "# Consistent and proper indentation is crucial for the interpreter to understand the logical structure of the code"
   ]
  },
  {
   "cell_type": "markdown",
   "id": "db2f12ea-ce73-4e47-a69f-e0858d34d344",
   "metadata": {
    "tags": []
   },
   "source": [
    "#5What happens if indentation is incorrect in Python? \n",
    "\n",
    "# the overall code will not run and the interpreter will simply return an error function."
   ]
  },
  {
   "cell_type": "code",
   "execution_count": null,
   "id": "64d3269e-580a-4bf6-b94e-3b435ba2f1d7",
   "metadata": {},
   "outputs": [],
   "source": [
    "#6.Differentiate 0etween expression and statement in Python with examples\n",
    "# Expression:\n",
    "\n",
    "# An expression is a piece of code that produces a value.\n",
    "# It can be a combination of variables, literals, operators, and function calls that evaluates to a single value.\n",
    "# Expressions can be simple or complex, but they must always result in a value.\n",
    "# Examples of expressions:"
   ]
  }
 ],
 "metadata": {
  "kernelspec": {
   "display_name": "Python 3 (ipykernel)",
   "language": "python",
   "name": "python3"
  },
  "language_info": {
   "codemirror_mode": {
    "name": "ipython",
    "version": 3
   },
   "file_extension": ".py",
   "mimetype": "text/x-python",
   "name": "python",
   "nbconvert_exporter": "python",
   "pygments_lexer": "ipython3",
   "version": "3.10.8"
  }
 },
 "nbformat": 4,
 "nbformat_minor": 5
}
